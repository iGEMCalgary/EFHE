{
  "nbformat": 4,
  "nbformat_minor": 0,
  "metadata": {
    "colab": {
      "name": "EFhandConverter.ipynb",
      "provenance": [],
      "collapsed_sections": []
    },
    "kernelspec": {
      "name": "python3",
      "display_name": "Python 3"
    },
    "language_info": {
      "name": "python"
    }
  },
  "cells": [
    {
      "cell_type": "markdown",
      "metadata": {
        "id": "HuPFCPHUKXRZ"
      },
      "source": [
        "This program is used to split protein sequences from UniProt into their   respective EF hands. Additionally, it is able to create fake EF hands by using interleukin proteins that contain EF hand motifs. "
      ]
    },
    {
      "cell_type": "code",
      "metadata": {
        "id": "F6yywVvylKEF"
      },
      "source": [
        "import pandas as pd\n",
        "import numpy as np\n",
        "import re\n",
        "import csv"
      ],
      "execution_count": null,
      "outputs": []
    },
    {
      "cell_type": "code",
      "metadata": {
        "id": "bqp5Y4bqcavL"
      },
      "source": [
        "dataset = pd.read_csv(\"proteinSequences_unreviewed.csv\") # dataset\n",
        "data = dataset.iloc[:,:]\n",
        "sequences = data['Sequence']\n",
        "efHandSpots = data['Calcium binding']\n",
        "\n",
        "i = 0\n",
        "efhands = []\n",
        "index = [] \n",
        "for row in efHandSpots:\n",
        "  if(not pd.isnull(row)):\n",
        "    start = [] \n",
        "    end = []\n",
        "    for m in re.finditer(\"CA_BIND \",row):\n",
        "      start.append(m.end())\n",
        "    for m in re.finditer(\";  /note=\",row):\n",
        "      end.append(m.start())\n",
        "    for x in range(len(end)):\n",
        "      temp = row[int(start[x]):int(end[x])].replace('<','').replace('>','').split('..')\n",
        "\n",
        "      index.append(sequences[i][int(temp[0])-1:int(temp[1])])\n",
        "  # print(i)\n",
        "  i += 1\n",
        "  \n",
        "print(len(index))\n",
        "index = list(filter(None,dict.fromkeys(index)))\n",
        "print(len(index))"
      ],
      "execution_count": null,
      "outputs": []
    },
    {
      "cell_type": "code",
      "metadata": {
        "id": "ZiB7It0g4qYw"
      },
      "source": [
        "# Outputs a dataset containing only EF hands\n",
        "dict = {'ef_hand':index}\n",
        "df = pd.DataFrame(dict)\n",
        "df.to_csv('efHandData.csv')"
      ],
      "execution_count": null,
      "outputs": []
    },
    {
      "cell_type": "code",
      "metadata": {
        "id": "SEZNjgFrdamO"
      },
      "source": [
        "import random\n",
        "\n",
        "dataset = pd.read_csv(\"uniprot-interleukins.csv\") # dataset\n",
        "data = dataset.iloc[:,:]\n",
        "sequences = data['Sequence']\n",
        "# efHandSpots = data['Calcium binding']"
      ],
      "execution_count": null,
      "outputs": []
    },
    {
      "cell_type": "code",
      "metadata": {
        "colab": {
          "base_uri": "https://localhost:8080/"
        },
        "id": "BJkEmJnBbplM",
        "outputId": "46d7c3f9-ae3c-4cd3-deb5-00c0cbdbe570"
      },
      "source": [
        "i = 0\n",
        "leukins = []\n",
        "indexL = []\n",
        "maxLenNegEfHand = 14\n",
        "minLenNegEfHand = 11\n",
        "\n",
        "i=0\n",
        "for row in sequences:\n",
        "  aminoNumber = 0\n",
        "  for y in sequences[i]:\n",
        "    if y == \"D\":\n",
        "      indexL.append(sequences[i][aminoNumber:12+aminoNumber])\n",
        "   elif y==\"E\":\n",
        "     \n",
        "    aminoNumber +=1\n",
        "  i+=1\n",
        "\n",
        "print(len(indexL))\n",
        "index = list(filter(None,dict.fromkeys(indexL)))\n",
        "print(len(indexL))"
      ],
      "execution_count": null,
      "outputs": [
        {
          "output_type": "stream",
          "name": "stdout",
          "text": [
            "2288\n",
            "2288\n"
          ]
        }
      ]
    },
    {
      "cell_type": "code",
      "metadata": {
        "id": "WB5QfUvsfCbt"
      },
      "source": [
        "# Outputs a dataset containing fake EF hands\n",
        "dict = {'neg_Ef_hand':indexL}\n",
        "df = pd.DataFrame(dict)\n",
        "df.to_csv('interLeukins.csv')"
      ],
      "execution_count": null,
      "outputs": []
    }
  ]
}