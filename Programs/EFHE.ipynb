{
  "nbformat": 4,
  "nbformat_minor": 0,
  "metadata": {
    "colab": {
      "name": "EFHE.ipynb",
      "provenance": []
    },
    "kernelspec": {
      "name": "python3",
      "display_name": "Python 3"
    },
    "language_info": {
      "name": "python"
    }
  },
  "cells": [
    {
      "cell_type": "markdown",
      "metadata": {
        "id": "FouTzdz0NN3Y"
      },
      "source": [
        "This program allows anyone to be able to input a protein sequence in which it will find and evaluate any EF hands the protein may have. "
      ]
    },
    {
      "cell_type": "code",
      "metadata": {
        "id": "Z8amsnPPooLY"
      },
      "source": [
        "from tensorflow import keras\n",
        "model = keras.models.load_model('epoch150.h5')\n",
        "maxlen = 12"
      ],
      "execution_count": 9,
      "outputs": []
    },
    {
      "cell_type": "code",
      "metadata": {
        "id": "8TeIz5gQoPVr"
      },
      "source": [
        "sequence = \"PTTTTKVDIAAFDPDKDGTIDLKEALAAGSAAFDKLDPDKDGTLDAKELKGRVSEADLKKLDPDNDGTLDKKEYLAAVEAQFKAANPDNDGTIDARELASPAGSALVNLIRHHHHHH\" #@param {type:\"string\"}\n",
        "aminoAcidSearch = [\"D\",\"E\",\"A\"]\n",
        "efHandLength = 12"
      ],
      "execution_count": 10,
      "outputs": []
    },
    {
      "cell_type": "code",
      "metadata": {
        "id": "lw-F9WVerRss"
      },
      "source": [
        "# Converts an EF hand into its vector form\n",
        "def trans(str):\n",
        "    a = []\n",
        "    dic = {'A':1, 'C':2, 'D':3, 'E':4, 'F':5, 'G':6, 'H':7, 'I':8, 'K':9, 'L':10, 'M':11, 'N':12, 'P':13, 'Q':14, 'R':15, 'S':16, 'T':17, 'V':18, 'W':19, 'Y':20, 'X':21}\n",
        "    for i in range(len(str)):\n",
        "        a.append(dic.get(str[i]))\n",
        "    return a"
      ],
      "execution_count": 11,
      "outputs": []
    },
    {
      "cell_type": "code",
      "metadata": {
        "id": "bo4DLhyCocIu"
      },
      "source": [
        "# Creates a list of potential EF hands then converts them into their vector form\n",
        "position = 0\n",
        "potentialEfHands = []\n",
        "for i in sequence:\n",
        "  i = i.upper()\n",
        "  # Chooses potential EF hands by seeing if the sequence starts with a certain amino acid\n",
        "  if i in aminoAcidSearch:\n",
        "    # print(sequence[position:position+maxlen],trans(sequence[position:position+maxlen]))\n",
        "    potentialEfHands.append([trans(sequence[position:position+maxlen]),sequence[position:position+maxlen],position+1])\n",
        "  position+=1"
      ],
      "execution_count": 12,
      "outputs": []
    },
    {
      "cell_type": "code",
      "metadata": {
        "id": "RBbXZHjJoenn",
        "colab": {
          "base_uri": "https://localhost:8080/"
        },
        "outputId": "041f3496-0e95-49f5-fb7c-e4274871bcdc"
      },
      "source": [
        "# Predicts each sequence from the portentialEfHands list and adds it to the results list \n",
        "results = []\n",
        "for x in potentialEfHands:\n",
        "    # print(x[0])\n",
        "  if len(x[0]) == 12: \n",
        "    results.append([model.predict([x[0]])[0][0],x[1],x[2]])\n",
        "    # print(model.predict(x[0]))\n",
        "print(results)"
      ],
      "execution_count": 13,
      "outputs": [
        {
          "output_type": "stream",
          "name": "stdout",
          "text": [
            "[[1.6322603e-05, 'DIAAFDPDKDGT', 8], [0.8581537, 'AAFDPDKDGTID', 10], [8.894166e-05, 'AFDPDKDGTIDL', 11], [0.99976265, 'DPDKDGTIDLKE', 13], [0.8176832, 'DKDGTIDLKEAL', 15], [1.8488403e-05, 'DGTIDLKEALAA', 17], [4.688988e-07, 'DLKEALAAGSAA', 21], [0.00021702051, 'EALAAGSAAFDK', 24], [0.017753541, 'ALAAGSAAFDKL', 25], [0.9920325, 'AAGSAAFDKLDP', 27], [0.993413, 'AGSAAFDKLDPD', 28], [0.38753134, 'AAFDKLDPDKDG', 31], [1.3707395e-06, 'AFDKLDPDKDGT', 32], [0.034606934, 'DKLDPDKDGTLD', 34], [0.99994725, 'DPDKDGTLDAKE', 37], [0.9996867, 'DKDGTLDAKELK', 39], [0.00053450465, 'DGTLDAKELKGR', 41], [0.006547928, 'DAKELKGRVSEA', 45], [0.0025244653, 'AKELKGRVSEAD', 46], [0.14125693, 'ELKGRVSEADLK', 48], [0.00012847781, 'EADLKKLDPDND', 55], [0.00010248512, 'ADLKKLDPDNDG', 56], [3.079093e-05, 'DLKKLDPDNDGT', 57], [0.99973553, 'DPDNDGTLDKKE', 62], [0.9997863, 'DNDGTLDKKEYL', 64], [0.0051603317, 'DGTLDKKEYLAA', 66], [1.8480496e-06, 'DKKEYLAAVEAQ', 70], [2.2098607e-06, 'EYLAAVEAQFKA', 73], [3.4212012e-06, 'AAVEAQFKAANP', 76], [0.0008009672, 'AVEAQFKAANPD', 77], [0.03404084, 'EAQFKAANPDND', 79], [0.028984338, 'AQFKAANPDNDG', 80], [0.81112754, 'AANPDNDGTIDA', 84], [0.95767367, 'ANPDNDGTIDAR', 85], [0.9821944, 'DNDGTIDARELA', 88], [2.7603706e-05, 'DGTIDARELASP', 90], [2.6190404e-05, 'DARELASPAGSA', 94], [4.157295e-06, 'ARELASPAGSAL', 95], [3.3711747e-06, 'ELASPAGSALVN', 97], [4.6148398e-05, 'ASPAGSALVNLI', 99], [3.8660568e-07, 'AGSALVNLIRHH', 102], [5.410314e-05, 'ALVNLIRHHHHH', 105]]\n"
          ]
        }
      ]
    },
    {
      "cell_type": "code",
      "metadata": {
        "colab": {
          "base_uri": "https://localhost:8080/"
        },
        "id": "9O-rnI_UogQo",
        "outputId": "10e4bf30-6288-4243-c0b1-3cccdd9c2b6f"
      },
      "source": [
        "# Filters the results by checking their evaluation value\n",
        "filteredResults = []\n",
        "filter = 0.9\n",
        "for x in results: \n",
        "  if x[0] > filter:\n",
        "    print(x)\n",
        "    filteredResults.append(x)\n",
        "results = filteredResults"
      ],
      "execution_count": 14,
      "outputs": [
        {
          "output_type": "stream",
          "name": "stdout",
          "text": [
            "[0.99976265, 'DPDKDGTIDLKE', 13]\n",
            "[0.9920325, 'AAGSAAFDKLDP', 27]\n",
            "[0.993413, 'AGSAAFDKLDPD', 28]\n",
            "[0.99994725, 'DPDKDGTLDAKE', 37]\n",
            "[0.9996867, 'DKDGTLDAKELK', 39]\n",
            "[0.99973553, 'DPDNDGTLDKKE', 62]\n",
            "[0.9997863, 'DNDGTLDKKEYL', 64]\n",
            "[0.95767367, 'ANPDNDGTIDAR', 85]\n",
            "[0.9821944, 'DNDGTIDARELA', 88]\n"
          ]
        }
      ]
    },
    {
      "cell_type": "code",
      "metadata": {
        "colab": {
          "base_uri": "https://localhost:8080/"
        },
        "id": "sqliWg3Jrr9m",
        "outputId": "4a9cd57d-97d5-4d0a-fa33-882edd467375"
      },
      "source": [
        "# Removes half cut EF hands\n",
        "count = 0\n",
        "filtered = results.copy()\n",
        "for x in results: \n",
        "  best = x\n",
        "  if count + 1 < len(results):\n",
        "    temp = count + 1\n",
        "    while results[temp][2] <= best[2] + 12:\n",
        "      print(results[temp],best)\n",
        "\n",
        "      if results[temp][1].count('D') < best[1].count('D'):\n",
        "        print('removed')\n",
        "        if results[temp] in filtered:\n",
        "          filtered.remove(results[temp])\n",
        "      elif results[temp][0] <= best[0]:\n",
        "        print('removed') \n",
        "        if results[temp] in filtered:\n",
        "          filtered.remove(results[temp])\n",
        "      else: \n",
        "        if best in filtered: \n",
        "          filtered.remove(best)\n",
        "        best = results[temp]\n",
        "      temp = temp + 1\n",
        "      if temp > len(results)-1:\n",
        "        break\n",
        "    count = count + 1\n",
        "results = filtered\n",
        "# Prints resulting potential and confirmed EF hands including the sequence and it's location in the protein\n",
        "print(results)"
      ],
      "execution_count": 15,
      "outputs": [
        {
          "output_type": "stream",
          "name": "stdout",
          "text": [
            "[0.993413, 'AGSAAFDKLDPD', 28] [0.9920325, 'AAGSAAFDKLDP', 27]\n",
            "[0.99994725, 'DPDKDGTLDAKE', 37] [0.993413, 'AGSAAFDKLDPD', 28]\n",
            "[0.9996867, 'DKDGTLDAKELK', 39] [0.99994725, 'DPDKDGTLDAKE', 37]\n",
            "removed\n",
            "[0.99994725, 'DPDKDGTLDAKE', 37] [0.993413, 'AGSAAFDKLDPD', 28]\n",
            "[0.9996867, 'DKDGTLDAKELK', 39] [0.99994725, 'DPDKDGTLDAKE', 37]\n",
            "removed\n",
            "[0.9996867, 'DKDGTLDAKELK', 39] [0.99994725, 'DPDKDGTLDAKE', 37]\n",
            "removed\n",
            "[0.9997863, 'DNDGTLDKKEYL', 64] [0.99973553, 'DPDNDGTLDKKE', 62]\n",
            "removed\n",
            "[0.9821944, 'DNDGTIDARELA', 88] [0.95767367, 'ANPDNDGTIDAR', 85]\n",
            "[[0.99976265, 'DPDKDGTIDLKE', 13], [0.99994725, 'DPDKDGTLDAKE', 37], [0.99973553, 'DPDNDGTLDKKE', 62], [0.9821944, 'DNDGTIDARELA', 88]]\n"
          ]
        }
      ]
    },
    {
      "cell_type": "code",
      "metadata": {
        "id": "LsXMrfJDyuUh",
        "colab": {
          "base_uri": "https://localhost:8080/"
        },
        "outputId": "2699559a-f523-41d3-bc3b-e73368910e52"
      },
      "source": [
        "confirmed = 0\n",
        "potential = 0\n",
        "for x in results: \n",
        "  if x[0] >= 0.99:\n",
        "    confirmed = confirmed + 1\n",
        "  else: \n",
        "    potential = potential + 1\n",
        "print(\"Number of confirmed ef hands: \" , confirmed)\n",
        "print(\"Nubmer of potential ef hands: \", potential)"
      ],
      "execution_count": 17,
      "outputs": [
        {
          "output_type": "stream",
          "name": "stdout",
          "text": [
            "Number of confirmed ef hands:  3\n",
            "Nubmer of potential ef hands:  1\n"
          ]
        }
      ]
    }
  ]
}